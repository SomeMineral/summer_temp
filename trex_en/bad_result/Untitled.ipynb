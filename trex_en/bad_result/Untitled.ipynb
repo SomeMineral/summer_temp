{
 "cells": [
  {
   "cell_type": "code",
   "execution_count": 12,
   "id": "ee130ade-6e60-408c-ac18-22a1192663f1",
   "metadata": {},
   "outputs": [],
   "source": [
    "import pandas as pd"
   ]
  },
  {
   "cell_type": "code",
   "execution_count": 46,
   "id": "e845b219-1413-4206-b926-005d20e019d1",
   "metadata": {},
   "outputs": [],
   "source": [
    "import requests\n",
    "from bs4 import BeautifulSoup\n",
    "\n",
    "url = 'https://tr-ex.me/queries/english-russian/words/10000-20000.html'\n",
    "res = requests.get(url)\n",
    "soup = BeautifulSoup(res.content, 'html.parser')"
   ]
  },
  {
   "cell_type": "code",
   "execution_count": 47,
   "id": "c08b8883-8bee-4af5-b0ae-3339dfa90b04",
   "metadata": {},
   "outputs": [],
   "source": [
    "box = []\n",
    "for tag in soup.find_all('a', attrs = {'class', 'query'}):\n",
    "    box.append(tag.text)"
   ]
  },
  {
   "cell_type": "code",
   "execution_count": 48,
   "id": "95a6e0d8-8dd0-4eb1-b33e-ddcbf1585565",
   "metadata": {},
   "outputs": [],
   "source": [
    "temp = pd.read_csv('word_EngRus(10000to20000)(bad).csv')"
   ]
  },
  {
   "cell_type": "code",
   "execution_count": 49,
   "id": "f455a48b-bc91-453a-ac4f-fddd50fe2288",
   "metadata": {},
   "outputs": [],
   "source": [
    "temp = set(temp['Eng'])"
   ]
  },
  {
   "cell_type": "code",
   "execution_count": 50,
   "id": "1dfebd5e-2320-4950-9663-e6daa9143d55",
   "metadata": {},
   "outputs": [],
   "source": [
    "diff = [ word for word in box if word.capitalize() not in temp ]"
   ]
  },
  {
   "cell_type": "code",
   "execution_count": 51,
   "id": "dbe29fec-8812-427d-9b8e-0d4b54fb7ea4",
   "metadata": {},
   "outputs": [
    {
     "data": {
      "text/plain": [
       "['sera',\n",
       " 'babylon',\n",
       " 'non-violent',\n",
       " 'in-country',\n",
       " 'yarn',\n",
       " 'encompassed',\n",
       " 'shear',\n",
       " 'laguna',\n",
       " 'malfoy',\n",
       " 'amidst',\n",
       " 'hyderabad']"
      ]
     },
     "execution_count": 51,
     "metadata": {},
     "output_type": "execute_result"
    }
   ],
   "source": [
    "diff"
   ]
  },
  {
   "cell_type": "code",
   "execution_count": 52,
   "id": "30bbe6e7-3b96-4b39-a96c-02add65008ac",
   "metadata": {},
   "outputs": [],
   "source": [
    "with open('failure.txt','a', encoding = 'utf-8') as f:\n",
    "    for word in diff:\n",
    "        f.write(word)\n",
    "        f.write('\\n')"
   ]
  },
  {
   "cell_type": "code",
   "execution_count": null,
   "id": "dc6a3bfe-c63a-4c8b-826e-47bada570281",
   "metadata": {},
   "outputs": [],
   "source": []
  }
 ],
 "metadata": {
  "kernelspec": {
   "display_name": "Python 3 (ipykernel)",
   "language": "python",
   "name": "python3"
  },
  "language_info": {
   "codemirror_mode": {
    "name": "ipython",
    "version": 3
   },
   "file_extension": ".py",
   "mimetype": "text/x-python",
   "name": "python",
   "nbconvert_exporter": "python",
   "pygments_lexer": "ipython3",
   "version": "3.8.0"
  }
 },
 "nbformat": 4,
 "nbformat_minor": 5
}
